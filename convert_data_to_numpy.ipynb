{
 "cells": [
  {
   "cell_type": "code",
   "execution_count": 1,
   "metadata": {},
   "outputs": [],
   "source": [
    "# csv file structure:\n",
    "# \"No.\",\"Time\",\"mac source\",\"Destination\",\"Length\",\"source port\",\"dest port\"\n",
    "# example:   \"1\",\"0.000000\",\"f2:25:d6:94:70:17\",\"42.198.61.0\",\"66\",\"64763\",\"443\"\n",
    "\n",
    "import csv\n",
    "import numpy as np\n",
    "from collections import Counter"
   ]
  },
  {
   "cell_type": "code",
   "execution_count": 2,
   "metadata": {},
   "outputs": [
    {
     "name": "stdout",
     "output_type": "stream",
     "text": [
      "\"No.\",\"Time\",\"mac source\",\"Destination\",\"Length\",\"source port\",\"dest port\"\n",
      "\n",
      "\"1\",\"0.000000\",\"f2:25:d6:94:70:17\",\"42.198.61.0\",\"66\",\"64763\",\"443\"\n",
      "\n",
      "\"2\",\"0.000110\",\"f2:25:d6:94:70:17\",\"42.198.61.0\",\"66\",\"64763\",\"443\"\n",
      "\n",
      "\"6156725\",\"3599.394397\",\"f2:c1:29:73:64:b5\",\"192.168.0.125\",\"1412\",\"80\",\"50604\"\n",
      "\n",
      "Number of lines: 6156726\n"
     ]
    }
   ],
   "source": [
    "filename = '/Users/mattiadurso/Google Drive/TIROCINIO/Data/export.csv'\n",
    "#filename = '/Users/mattia/Google Drive/TIROCINIO/Data/export.csv'\n",
    "totlines = 0\n",
    "\n",
    "# count number of lines\n",
    "with open(filename) as f: #conta quante righe\n",
    "    for _ in f:\n",
    "        if totlines < 3 or totlines == 6156725:\n",
    "            print (_)\n",
    "        totlines += 1\n",
    "                \n",
    "print(f\"Number of lines: {totlines}\")\n"
   ]
  },
  {
   "cell_type": "code",
   "execution_count": 3,
   "metadata": {},
   "outputs": [],
   "source": [
    "src = {} #ci sono 152 utenti diversi\n",
    "dst = {} #4209 destinazioni\n",
    "src_id = 0\n",
    "dst_id = 0\n",
    "data = np.zeros((totlines-1,6)) #matrice di zeri"
   ]
  },
  {
   "cell_type": "code",
   "execution_count": 4,
   "metadata": {},
   "outputs": [
    {
     "name": "stdout",
     "output_type": "stream",
     "text": [
      "Start...\n",
      "Processing line 1000000 / 6156726 (16.24%)\n",
      "Processing line 2000000 / 6156726 (32.48%)\n",
      "Processing line 3000000 / 6156726 (48.73%)\n",
      "Processing line 4000000 / 6156726 (64.97%)\n",
      "Processing line 5000000 / 6156726 (81.21%)\n",
      "Processing line 6000000 / 6156726 (97.45%)\n",
      "done.\n"
     ]
    }
   ],
   "source": [
    "#crea il dataset partendo dal csv\n",
    "list = []\n",
    "print(\"Start...\")\n",
    "\n",
    "with open(filename)as f:\n",
    "    reader = csv.reader(f, delimiter=',')\n",
    "    for linenum,row in enumerate(reader):\n",
    "        if linenum == 0:\n",
    "            continue\n",
    "        if linenum % 1000000 == 0:\n",
    "            print(f\"Processing line {linenum} / {totlines} ({100*linenum/totlines:.2f}%)\")\n",
    "        #print(row)\n",
    "        if row[2] not in src:\n",
    "            src[row[2]] = src_id\n",
    "            src_id += 1\n",
    "            \n",
    "        list.append(row[2]) \n",
    "            \n",
    "        if row[3] not in dst:\n",
    "            dst[row[3]] = dst_id\n",
    "            dst_id += 1\n",
    "        \n",
    "        if row[5] == '':\n",
    "            row[5] = 0\n",
    "        if row[6] == '':\n",
    "            row[6] = 0\n",
    "\n",
    "        data[linenum-1] = [ row[1], src[row[2]], dst[row[3]], row[4], row[5], row[6] ]      \n",
    "\n",
    "        #if linenum == 10: break\n",
    "        \n",
    "np.save('data.npy', data)\n",
    "print(\"done.\")\n",
    " "
   ]
  },
  {
   "cell_type": "code",
   "execution_count": 5,
   "metadata": {},
   "outputs": [
    {
     "name": "stdout",
     "output_type": "stream",
     "text": [
      "total packets: 2054165 |  unique user: 90 | mean for user: 22824 |  max: 100561 |  min: 5129\n"
     ]
    }
   ],
   "source": [
    "# creo la lista degli utenti che mi interessano\n",
    "\n",
    "total  = user_printed = Max = 0\n",
    "Min = 150000\n",
    "src_balanced = {} #dict\n",
    "#print(\"id |\", \"apparences\")\n",
    "\n",
    "Counter(list).keys() \n",
    "apparences = Counter(list).values() #conteggio presenze\n",
    "\n",
    "for i,app in enumerate(apparences):\n",
    "    if 5000 < app < 150000:\n",
    "        total += app\n",
    "        src_balanced [i] = i \n",
    "        user_printed += 1 \n",
    "        if app > Max:\n",
    "            Max = app\n",
    "        if app < Min:\n",
    "            Min = app                \n",
    "        #print(i, \" | \", app)\n",
    "        \n",
    "mean = total//user_printed    \n",
    "print(\"total packets:\", total,\"| \", \"unique user:\", user_printed, \"| mean for user:\", mean,\"| \", \"max:\", Max, \"| \", \"min:\", Min)"
   ]
  },
  {
   "cell_type": "code",
   "execution_count": null,
   "metadata": {},
   "outputs": [],
   "source": []
  },
  {
   "cell_type": "code",
   "execution_count": 6,
   "metadata": {},
   "outputs": [
    {
     "name": "stdout",
     "output_type": "stream",
     "text": [
      "Lenght: 90\n",
      "done.\n"
     ]
    }
   ],
   "source": [
    "#genero un dict con i mac corretti {f2:25:d6:94:70:17='1'}\n",
    "src_mac_correct = {}\n",
    "\n",
    "for data in src:\n",
    "    if src[data] in src_balanced:\n",
    "        src_mac_correct [data] = src[data]\n",
    "        \n",
    "print(\"Lenght:\", len(src_mac_correct))\n",
    "#print(src_mac_correct)\n",
    "print(\"done.\")"
   ]
  },
  {
   "cell_type": "code",
   "execution_count": 7,
   "metadata": {},
   "outputs": [
    {
     "data": {
      "text/plain": [
       "2054165"
      ]
     },
     "execution_count": 7,
     "metadata": {},
     "output_type": "execute_result"
    }
   ],
   "source": [
    "src_correct = {} \n",
    "dst_correct = {} \n",
    "src_id_correct = 0\n",
    "dst_id_correct = 0\n",
    "data_correct = np.zeros((total,6))\n",
    "data_correct.shape[0]"
   ]
  },
  {
   "cell_type": "code",
   "execution_count": 8,
   "metadata": {},
   "outputs": [
    {
     "name": "stdout",
     "output_type": "stream",
     "text": [
      "Start...\n",
      "Processing line 1000000 / 6156726 (16.24%)\n",
      "Processing line 2000000 / 6156726 (32.48%)\n",
      "Processing line 3000000 / 6156726 (48.73%)\n",
      "Processing line 4000000 / 6156726 (64.97%)\n",
      "Processing line 5000000 / 6156726 (81.21%)\n",
      "Processing line 6000000 / 6156726 (97.45%)\n",
      "...done.\n"
     ]
    }
   ],
   "source": [
    "#genero un dataset nuovo con solo gli utenti in src_mac_correct\n",
    "i = 0\n",
    "print(\"Start...\")\n",
    "with open(filename)as f:\n",
    "    reader = csv.reader(f, delimiter=',')\n",
    "    \n",
    "    for linenum,row in enumerate(reader):        \n",
    "        if linenum == 0:\n",
    "            continue\n",
    "            \n",
    "        if linenum % 1000000 == 0:\n",
    "            print(f\"Processing line {linenum} / {totlines} ({100*linenum/totlines:.2f}%)\")\n",
    "        #print(row)     \n",
    "        \n",
    "        if row[2] in src_mac_correct:\n",
    "            \n",
    "            if row[2] not in src_correct:\n",
    "                src_correct[row[2]] = src_id_correct\n",
    "                src_id_correct += 1\n",
    "\n",
    "            if row[3] not in dst_correct:\n",
    "                dst_correct[row[3]] = dst_id_correct\n",
    "                dst_id_correct += 1\n",
    "\n",
    "            if row[5] == '':\n",
    "                row[5] = 0\n",
    "            if row[6] == '':\n",
    "                row[6] = 0\n",
    "\n",
    "            data_correct[i] = [ row[1], src_correct[row[2]], dst_correct[row[3]], row[4], row[5], row[6] ]            \n",
    "            #print(data_correct[i])\n",
    "            i += 1\n",
    "            \n",
    "np.save('data_correct.npy', data_correct)\n",
    "print(\"...done.\")"
   ]
  },
  {
   "cell_type": "code",
   "execution_count": 9,
   "metadata": {},
   "outputs": [
    {
     "data": {
      "text/plain": [
       "'print(len(data_correct))\\nfor i,q in enumerate(data):\\n    if i < 3 or i == 2054164:\\n        print(i, q)  '"
      ]
     },
     "execution_count": 9,
     "metadata": {},
     "output_type": "execute_result"
    }
   ],
   "source": [
    "\"\"\"print(len(data_correct))\n",
    "for i,q in enumerate(data):\n",
    "    if i < 3 or i == 2054164:\n",
    "        print(i, q)  \"\"\"  "
   ]
  },
  {
   "cell_type": "code",
   "execution_count": null,
   "metadata": {},
   "outputs": [],
   "source": []
  },
  {
   "cell_type": "code",
   "execution_count": null,
   "metadata": {},
   "outputs": [],
   "source": []
  },
  {
   "cell_type": "code",
   "execution_count": null,
   "metadata": {},
   "outputs": [],
   "source": []
  }
 ],
 "metadata": {
  "kernelspec": {
   "display_name": "Python 3",
   "language": "python",
   "name": "python3"
  },
  "language_info": {
   "codemirror_mode": {
    "name": "ipython",
    "version": 3
   },
   "file_extension": ".py",
   "mimetype": "text/x-python",
   "name": "python",
   "nbconvert_exporter": "python",
   "pygments_lexer": "ipython3",
   "version": "3.7.4"
  }
 },
 "nbformat": 4,
 "nbformat_minor": 2
}
